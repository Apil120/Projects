{
 "cells": [
  {
   "cell_type": "code",
   "execution_count": 21,
   "id": "5a5dbef2",
   "metadata": {},
   "outputs": [],
   "source": [
    "#Import necessary packages\n",
    "import tensorflow as tf\n",
    "from tensorflow.keras.preprocessing.image import ImageDataGenerator\n",
    "from tensorflow.keras import layers \n",
    "from sklearn.metrics import classification_report"
   ]
  },
  {
   "cell_type": "code",
   "execution_count": 10,
   "id": "a78e6774",
   "metadata": {},
   "outputs": [],
   "source": [
    "#Loading train and test data\n",
    "train_data='train'\n",
    "test_data='test'"
   ]
  },
  {
   "cell_type": "code",
   "execution_count": 11,
   "id": "e9cfee60",
   "metadata": {},
   "outputs": [],
   "source": [
    "img_width, img_height = 150, 150#Setting image size \n",
    "\n",
    "batch_size = 32#Setting batch(collection of training example) size\n",
    "#Data augmentation using various methods\n",
    "train_datagen = ImageDataGenerator(\n",
    "    rescale=1./255,\n",
    "    shear_range=0.2,\n",
    "    zoom_range=0.2,\n",
    "    horizontal_flip=True\n",
    ")\n",
    "\n",
    "test_datagen = ImageDataGenerator(rescale=1./255)"
   ]
  },
  {
   "cell_type": "code",
   "execution_count": 12,
   "id": "8b730118",
   "metadata": {},
   "outputs": [
    {
     "name": "stdout",
     "output_type": "stream",
     "text": [
      "Found 557 images belonging to 2 classes.\n"
     ]
    }
   ],
   "source": [
    "#Classifying the data as binary for train\n",
    "train_generator = train_datagen.flow_from_directory(\n",
    "    train_data,\n",
    "    target_size=(img_width, img_height),\n",
    "    batch_size=batch_size,\n",
    "    class_mode='binary'\n",
    ")"
   ]
  },
  {
   "cell_type": "code",
   "execution_count": 13,
   "id": "7fec4e66",
   "metadata": {},
   "outputs": [
    {
     "name": "stdout",
     "output_type": "stream",
     "text": [
      "Found 140 images belonging to 2 classes.\n"
     ]
    }
   ],
   "source": [
    "#Classifying the data as binary for test\n",
    "test_generator = test_datagen.flow_from_directory(\n",
    "    test_data,\n",
    "    target_size=(img_width, img_height),\n",
    "    batch_size=batch_size,\n",
    "    class_mode='binary'\n",
    ")"
   ]
  },
  {
   "cell_type": "code",
   "execution_count": 14,
   "id": "2aa58b74",
   "metadata": {},
   "outputs": [
    {
     "name": "stdout",
     "output_type": "stream",
     "text": [
      "WARNING:tensorflow:From C:\\Users\\USER\\AppData\\Local\\Programs\\Python\\Python311\\Lib\\site-packages\\keras\\src\\layers\\pooling\\max_pooling2d.py:161: The name tf.nn.max_pool is deprecated. Please use tf.nn.max_pool2d instead.\n",
      "\n",
      "WARNING:tensorflow:From C:\\Users\\USER\\AppData\\Local\\Programs\\Python\\Python311\\Lib\\site-packages\\keras\\src\\optimizers\\__init__.py:309: The name tf.train.Optimizer is deprecated. Please use tf.compat.v1.train.Optimizer instead.\n",
      "\n"
     ]
    }
   ],
   "source": [
    "#Model definition and layers, this example has 10 layers \n",
    "model = tf.keras.models.Sequential()\n",
    "model.add(layers.Conv2D(32, (3, 3), activation='relu', input_shape=(img_width, img_height, 3)))\n",
    "model.add(layers.MaxPooling2D((2, 2)))\n",
    "model.add(layers.Conv2D(64, (3, 3), activation='relu'))\n",
    "model.add(layers.MaxPooling2D((2, 2)))\n",
    "model.add(layers.Conv2D(128, (3, 3), activation='relu'))\n",
    "model.add(layers.MaxPooling2D((2, 2)))\n",
    "model.add(layers.Flatten())\n",
    "model.add(layers.Dense(128, activation='relu'))\n",
    "model.add(layers.Dropout(0.5))\n",
    "model.add(layers.Dense(1, activation='sigmoid'))\n",
    "\n",
    "model.compile(optimizer='adam', loss='binary_crossentropy', metrics=['accuracy'])"
   ]
  },
  {
   "cell_type": "code",
   "execution_count": 20,
   "id": "7490203a",
   "metadata": {
    "scrolled": true
   },
   "outputs": [
    {
     "name": "stdout",
     "output_type": "stream",
     "text": [
      "Epoch 1/25\n",
      "17/17 [==============================] - 8s 443ms/step - loss: 0.3776 - accuracy: 0.8229 - val_loss: 0.7942 - val_accuracy: 0.7031\n",
      "Epoch 2/25\n",
      "17/17 [==============================] - 7s 437ms/step - loss: 0.3614 - accuracy: 0.8381 - val_loss: 0.7302 - val_accuracy: 0.7031\n",
      "Epoch 3/25\n",
      "17/17 [==============================] - 7s 428ms/step - loss: 0.3301 - accuracy: 0.8629 - val_loss: 0.8629 - val_accuracy: 0.6797\n",
      "Epoch 4/25\n",
      "17/17 [==============================] - 7s 430ms/step - loss: 0.3146 - accuracy: 0.8438 - val_loss: 0.7501 - val_accuracy: 0.6719\n",
      "Epoch 5/25\n",
      "17/17 [==============================] - 7s 424ms/step - loss: 0.2786 - accuracy: 0.8781 - val_loss: 0.9697 - val_accuracy: 0.6562\n",
      "Epoch 6/25\n",
      "17/17 [==============================] - 8s 449ms/step - loss: 0.2816 - accuracy: 0.8800 - val_loss: 0.8921 - val_accuracy: 0.6953\n",
      "Epoch 7/25\n",
      "17/17 [==============================] - 7s 437ms/step - loss: 0.2640 - accuracy: 0.8781 - val_loss: 0.8835 - val_accuracy: 0.7109\n",
      "Epoch 8/25\n",
      "17/17 [==============================] - 8s 443ms/step - loss: 0.2584 - accuracy: 0.8876 - val_loss: 0.8703 - val_accuracy: 0.7266\n",
      "Epoch 9/25\n",
      "17/17 [==============================] - 7s 440ms/step - loss: 0.2735 - accuracy: 0.8895 - val_loss: 0.9535 - val_accuracy: 0.6719\n",
      "Epoch 10/25\n",
      "17/17 [==============================] - 8s 451ms/step - loss: 0.2194 - accuracy: 0.9124 - val_loss: 0.8884 - val_accuracy: 0.7031\n",
      "Epoch 11/25\n",
      "17/17 [==============================] - 8s 439ms/step - loss: 0.2155 - accuracy: 0.9010 - val_loss: 0.9624 - val_accuracy: 0.7266\n",
      "Epoch 12/25\n",
      "17/17 [==============================] - 8s 441ms/step - loss: 0.2231 - accuracy: 0.9124 - val_loss: 0.9586 - val_accuracy: 0.7344\n",
      "Epoch 13/25\n",
      "17/17 [==============================] - 7s 433ms/step - loss: 0.2091 - accuracy: 0.9181 - val_loss: 0.9709 - val_accuracy: 0.7500\n",
      "Epoch 14/25\n",
      "17/17 [==============================] - 7s 436ms/step - loss: 0.1908 - accuracy: 0.9295 - val_loss: 0.9828 - val_accuracy: 0.6875\n",
      "Epoch 15/25\n",
      "17/17 [==============================] - 8s 460ms/step - loss: 0.1588 - accuracy: 0.9448 - val_loss: 0.7877 - val_accuracy: 0.7422\n",
      "Epoch 16/25\n",
      "17/17 [==============================] - 8s 463ms/step - loss: 0.2033 - accuracy: 0.9181 - val_loss: 1.1366 - val_accuracy: 0.7344\n",
      "Epoch 17/25\n",
      "17/17 [==============================] - 8s 465ms/step - loss: 0.2280 - accuracy: 0.9143 - val_loss: 0.9057 - val_accuracy: 0.7734\n",
      "Epoch 18/25\n",
      "17/17 [==============================] - 8s 471ms/step - loss: 0.2244 - accuracy: 0.9181 - val_loss: 0.9957 - val_accuracy: 0.7344\n",
      "Epoch 19/25\n",
      "17/17 [==============================] - 8s 450ms/step - loss: 0.1979 - accuracy: 0.9143 - val_loss: 1.1639 - val_accuracy: 0.7266\n",
      "Epoch 20/25\n",
      "17/17 [==============================] - 8s 445ms/step - loss: 0.1968 - accuracy: 0.9181 - val_loss: 1.0770 - val_accuracy: 0.7031\n",
      "Epoch 21/25\n",
      "17/17 [==============================] - 8s 449ms/step - loss: 0.1551 - accuracy: 0.9338 - val_loss: 1.1904 - val_accuracy: 0.6953\n",
      "Epoch 22/25\n",
      "17/17 [==============================] - 7s 432ms/step - loss: 0.1338 - accuracy: 0.9429 - val_loss: 1.2362 - val_accuracy: 0.7109\n",
      "Epoch 23/25\n",
      "17/17 [==============================] - 8s 445ms/step - loss: 0.1150 - accuracy: 0.9638 - val_loss: 1.2295 - val_accuracy: 0.7266\n",
      "Epoch 24/25\n",
      "17/17 [==============================] - 8s 457ms/step - loss: 0.1607 - accuracy: 0.9412 - val_loss: 1.1479 - val_accuracy: 0.7266\n",
      "Epoch 25/25\n",
      "17/17 [==============================] - 8s 464ms/step - loss: 0.1267 - accuracy: 0.9467 - val_loss: 1.3378 - val_accuracy: 0.6641\n"
     ]
    },
    {
     "data": {
      "text/plain": [
       "<keras.src.callbacks.History at 0x22ae6add210>"
      ]
     },
     "execution_count": 20,
     "metadata": {},
     "output_type": "execute_result"
    }
   ],
   "source": [
    "model.fit(\n",
    "    train_generator,\n",
    "    steps_per_epoch=train_generator.samples // batch_size,\n",
    "    epochs=25,\n",
    "    validation_data=test_generator,\n",
    "    validation_steps=test_generator.samples // batch_size\n",
    ")"
   ]
  },
  {
   "cell_type": "code",
   "execution_count": 23,
   "id": "ae78cd84",
   "metadata": {},
   "outputs": [
    {
     "name": "stdout",
     "output_type": "stream",
     "text": [
      "5/5 [==============================] - 1s 156ms/step\n",
      "              precision    recall  f1-score   support\n",
      "\n",
      "        cats       0.49      0.49      0.49        70\n",
      "        dogs       0.49      0.49      0.49        70\n",
      "\n",
      "    accuracy                           0.49       140\n",
      "   macro avg       0.49      0.49      0.49       140\n",
      "weighted avg       0.49      0.49      0.49       140\n",
      "\n",
      "4/4 [==============================] - 1s 190ms/step - loss: 0.9305 - accuracy: 0.7109\n",
      "Loss: 0.930511474609375, Accuracy: 0.7109375\n"
     ]
    }
   ],
   "source": [
    "#Eval results\n",
    "predictions = model.predict(test_generator)\n",
    "predicted_classes = (predictions > 0.5).astype(int)\n",
    "true_classes = test_generator.classes\n",
    "class_labels = list(test_generator.class_indices.keys())\n",
    "report = classification_report(true_classes, predicted_classes, target_names=class_labels)\n",
    "print(report)\n",
    "#Accuracy:\n",
    "evaluation_result = model.evaluate(test_generator, steps=test_generator.samples // batch_size)\n",
    "print(f\"Loss: {evaluation_result[0]}, Accuracy: {evaluation_result[1]}\")"
   ]
  },
  {
   "cell_type": "code",
   "execution_count": 17,
   "id": "87f9b320",
   "metadata": {},
   "outputs": [
    {
     "name": "stderr",
     "output_type": "stream",
     "text": [
      "C:\\Users\\USER\\AppData\\Local\\Programs\\Python\\Python311\\Lib\\site-packages\\keras\\src\\engine\\training.py:3103: UserWarning: You are saving your model as an HDF5 file via `model.save()`. This file format is considered legacy. We recommend using instead the native Keras format, e.g. `model.save('my_model.keras')`.\n",
      "  saving_api.save_model(\n"
     ]
    }
   ],
   "source": [
    "#Saving the model\n",
    "#model.save('CNN_MODEL.h5')"
   ]
  }
 ],
 "metadata": {
  "kernelspec": {
   "display_name": "Python 3 (ipykernel)",
   "language": "python",
   "name": "python3"
  },
  "language_info": {
   "codemirror_mode": {
    "name": "ipython",
    "version": 3
   },
   "file_extension": ".py",
   "mimetype": "text/x-python",
   "name": "python",
   "nbconvert_exporter": "python",
   "pygments_lexer": "ipython3",
   "version": "3.11.3"
  }
 },
 "nbformat": 4,
 "nbformat_minor": 5
}
